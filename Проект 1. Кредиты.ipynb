{
 "cells": [
  {
   "cell_type": "markdown",
   "id": "ece77634",
   "metadata": {},
   "source": [
    "<div style=\"border:solid green 3px; padding: 20px\">\n",
    "\n",
    "<b>Привет!</b>\n",
    "\n",
    "Меня зовут Сороколетов Илья и я буду проверять твой проект. \n",
    "\n",
    "Предлагаю общаться на «**ты**», но если тебе будет комфортнее общаться на «**вы**», то сообщи об этом в комментариях)\n",
    "\n",
    "\n",
    "Для твоего удобства, я буду выделять свои комментарии следующим образом:\n",
    "\n",
    "<div class=\"alert alert-danger\">\n",
    "<b>❌ Комментарий ревьюера v1:</b> Самые важные замечания. Они указывают на ключевые моменты, которые влияют на конечный результат проекта. </div>\n",
    "\n",
    "<div class=\"alert alert-warning\">\n",
    "<b>⚠️ Комментарий ревьюера v1:</b> Советы или замечания, которые помогут сделать твою работу лучше, но необязательны к выполнению.\n",
    "\n",
    "</div>\n",
    "\n",
    "<div class=\"alert alert-success\">\n",
    "<b>✔️ Комментарий ревьюера v1:</b> Так я выделяю все остальные комментарии.</div>\n",
    "\n",
    "\n",
    "Пометками <b>v1-v2-v3-...</b> я буду отмечать версию проверки. Так ты сможешь быстро найти мои новые комментарии.\n",
    "\n",
    "Давай работать над проектом в диалоге: если ты что-то меняешь в проекте по моим рекомендациям — пиши об этом. Выбери для своих комментариев какой-то заметный цвет, так мне будет легче отследить изменения, например вот так:\n",
    "    \n",
    "<div class=\"alert alert-info\">\n",
    "<b>Комментарий студента:</b>\n",
    "<br>\n",
    "</div>\n",
    "\n",
    "<b>Пожалуйста, не перемещай, не изменяй и не удаляй мои комментарии.</b> Если ты оставляешь свои комментарии, то делай это под моими, чтобы сообщения были расположены в хронологическом порядке. Всё это поможет выполнить повторную проверку твоего проекта быстрее. \n",
    "\n",
    "\n",
    "Перед отправкой работы я рекомендую нажимать Kernel -> Restart & Run All. Это перезапустит ядро и по очереди выполнит все ячейки. Так ты сможешь проверить, что всё работает корректно. Кнопка Kernel находится в панели сверху\n",
    "\n",
    "Обязательно задавай вопросы если они возникнут, а я перехожу к проверке)\n",
    "\n",
    "P.S. На всякий случай, я оставлю пустой шаблон для твоих комментариев ниже. Кликни два раза на мой комментарий, скопируй последние четыре строчки кода и вставляй их в пустую ячейку там, где ты хочешь оставить комментарий. Не забудь только перед этим сменить тип ячейки на Markdown. Быстро это можно сделать так: кликнуть на ячейку - нажать ESC - нажать M. \n",
    "    \n",
    "    \n",
    "<div class=\"alert alert-info\">\n",
    "<b>Комментарий студента:</b>\n",
    "<br>Место для твоего комментария\n",
    "</div>"
   ]
  },
  {
   "cell_type": "markdown",
   "id": "c81daeeb",
   "metadata": {
    "deletable": false,
    "id": "c81daeeb"
   },
   "source": [
    "# Исследование надежности заемщиков\n"
   ]
  },
  {
   "cell_type": "markdown",
   "id": "827c20bf",
   "metadata": {
    "id": "827c20bf"
   },
   "source": [
    "Во второй части проекта вы выполните шаги 3 и 4. Их вручную проверит ревьюер.\n",
    "Чтобы вам не пришлось писать код заново для шагов 1 и 2, мы добавили авторские решения в ячейки с кодом. \n",
    "\n"
   ]
  },
  {
   "cell_type": "markdown",
   "id": "744d7639",
   "metadata": {
    "deletable": false,
    "id": "744d7639"
   },
   "source": [
    "## Откройте таблицу и изучите общую информацию о данных"
   ]
  },
  {
   "cell_type": "markdown",
   "id": "e7a14c31",
   "metadata": {
    "deletable": false,
    "id": "e7a14c31"
   },
   "source": [
    "**Задание 1. Импортируйте библиотеку pandas. Считайте данные из csv-файла в датафрейм и сохраните в переменную `data`. Путь к файлу:**\n",
    "\n",
    "`/datasets/data.csv`"
   ]
  },
  {
   "cell_type": "code",
   "execution_count": 1,
   "id": "7bcf75c9",
   "metadata": {
    "deletable": false,
    "id": "7bcf75c9"
   },
   "outputs": [],
   "source": [
    "import pandas as pd\n",
    "\n",
    "try:\n",
    "    data = pd.read_csv('/datasets/data.csv')\n",
    "except:\n",
    "    data = pd.read_csv('https://code.s3.yandex.net/datasets/data.csv')"
   ]
  },
  {
   "cell_type": "markdown",
   "id": "b8038fe3",
   "metadata": {
    "deletable": false,
    "id": "b8038fe3"
   },
   "source": [
    "**Задание 2. Выведите первые 20 строчек датафрейма `data` на экран.**"
   ]
  },
  {
   "cell_type": "code",
   "execution_count": 2,
   "id": "2a7cab99",
   "metadata": {
    "deletable": false,
    "id": "2a7cab99",
    "outputId": "1a8f3ef2-d323-4ec2-ddf7-89670b5944c4"
   },
   "outputs": [
    {
     "data": {
      "text/html": [
       "<div>\n",
       "<style scoped>\n",
       "    .dataframe tbody tr th:only-of-type {\n",
       "        vertical-align: middle;\n",
       "    }\n",
       "\n",
       "    .dataframe tbody tr th {\n",
       "        vertical-align: top;\n",
       "    }\n",
       "\n",
       "    .dataframe thead th {\n",
       "        text-align: right;\n",
       "    }\n",
       "</style>\n",
       "<table border=\"1\" class=\"dataframe\">\n",
       "  <thead>\n",
       "    <tr style=\"text-align: right;\">\n",
       "      <th></th>\n",
       "      <th>children</th>\n",
       "      <th>days_employed</th>\n",
       "      <th>dob_years</th>\n",
       "      <th>education</th>\n",
       "      <th>education_id</th>\n",
       "      <th>family_status</th>\n",
       "      <th>family_status_id</th>\n",
       "      <th>gender</th>\n",
       "      <th>income_type</th>\n",
       "      <th>debt</th>\n",
       "      <th>total_income</th>\n",
       "      <th>purpose</th>\n",
       "    </tr>\n",
       "  </thead>\n",
       "  <tbody>\n",
       "    <tr>\n",
       "      <th>0</th>\n",
       "      <td>1</td>\n",
       "      <td>-8437.673028</td>\n",
       "      <td>42</td>\n",
       "      <td>высшее</td>\n",
       "      <td>0</td>\n",
       "      <td>женат / замужем</td>\n",
       "      <td>0</td>\n",
       "      <td>F</td>\n",
       "      <td>сотрудник</td>\n",
       "      <td>0</td>\n",
       "      <td>253875.639453</td>\n",
       "      <td>покупка жилья</td>\n",
       "    </tr>\n",
       "    <tr>\n",
       "      <th>1</th>\n",
       "      <td>1</td>\n",
       "      <td>-4024.803754</td>\n",
       "      <td>36</td>\n",
       "      <td>среднее</td>\n",
       "      <td>1</td>\n",
       "      <td>женат / замужем</td>\n",
       "      <td>0</td>\n",
       "      <td>F</td>\n",
       "      <td>сотрудник</td>\n",
       "      <td>0</td>\n",
       "      <td>112080.014102</td>\n",
       "      <td>приобретение автомобиля</td>\n",
       "    </tr>\n",
       "    <tr>\n",
       "      <th>2</th>\n",
       "      <td>0</td>\n",
       "      <td>-5623.422610</td>\n",
       "      <td>33</td>\n",
       "      <td>Среднее</td>\n",
       "      <td>1</td>\n",
       "      <td>женат / замужем</td>\n",
       "      <td>0</td>\n",
       "      <td>M</td>\n",
       "      <td>сотрудник</td>\n",
       "      <td>0</td>\n",
       "      <td>145885.952297</td>\n",
       "      <td>покупка жилья</td>\n",
       "    </tr>\n",
       "    <tr>\n",
       "      <th>3</th>\n",
       "      <td>3</td>\n",
       "      <td>-4124.747207</td>\n",
       "      <td>32</td>\n",
       "      <td>среднее</td>\n",
       "      <td>1</td>\n",
       "      <td>женат / замужем</td>\n",
       "      <td>0</td>\n",
       "      <td>M</td>\n",
       "      <td>сотрудник</td>\n",
       "      <td>0</td>\n",
       "      <td>267628.550329</td>\n",
       "      <td>дополнительное образование</td>\n",
       "    </tr>\n",
       "    <tr>\n",
       "      <th>4</th>\n",
       "      <td>0</td>\n",
       "      <td>340266.072047</td>\n",
       "      <td>53</td>\n",
       "      <td>среднее</td>\n",
       "      <td>1</td>\n",
       "      <td>гражданский брак</td>\n",
       "      <td>1</td>\n",
       "      <td>F</td>\n",
       "      <td>пенсионер</td>\n",
       "      <td>0</td>\n",
       "      <td>158616.077870</td>\n",
       "      <td>сыграть свадьбу</td>\n",
       "    </tr>\n",
       "    <tr>\n",
       "      <th>5</th>\n",
       "      <td>0</td>\n",
       "      <td>-926.185831</td>\n",
       "      <td>27</td>\n",
       "      <td>высшее</td>\n",
       "      <td>0</td>\n",
       "      <td>гражданский брак</td>\n",
       "      <td>1</td>\n",
       "      <td>M</td>\n",
       "      <td>компаньон</td>\n",
       "      <td>0</td>\n",
       "      <td>255763.565419</td>\n",
       "      <td>покупка жилья</td>\n",
       "    </tr>\n",
       "    <tr>\n",
       "      <th>6</th>\n",
       "      <td>0</td>\n",
       "      <td>-2879.202052</td>\n",
       "      <td>43</td>\n",
       "      <td>высшее</td>\n",
       "      <td>0</td>\n",
       "      <td>женат / замужем</td>\n",
       "      <td>0</td>\n",
       "      <td>F</td>\n",
       "      <td>компаньон</td>\n",
       "      <td>0</td>\n",
       "      <td>240525.971920</td>\n",
       "      <td>операции с жильем</td>\n",
       "    </tr>\n",
       "    <tr>\n",
       "      <th>7</th>\n",
       "      <td>0</td>\n",
       "      <td>-152.779569</td>\n",
       "      <td>50</td>\n",
       "      <td>СРЕДНЕЕ</td>\n",
       "      <td>1</td>\n",
       "      <td>женат / замужем</td>\n",
       "      <td>0</td>\n",
       "      <td>M</td>\n",
       "      <td>сотрудник</td>\n",
       "      <td>0</td>\n",
       "      <td>135823.934197</td>\n",
       "      <td>образование</td>\n",
       "    </tr>\n",
       "    <tr>\n",
       "      <th>8</th>\n",
       "      <td>2</td>\n",
       "      <td>-6929.865299</td>\n",
       "      <td>35</td>\n",
       "      <td>ВЫСШЕЕ</td>\n",
       "      <td>0</td>\n",
       "      <td>гражданский брак</td>\n",
       "      <td>1</td>\n",
       "      <td>F</td>\n",
       "      <td>сотрудник</td>\n",
       "      <td>0</td>\n",
       "      <td>95856.832424</td>\n",
       "      <td>на проведение свадьбы</td>\n",
       "    </tr>\n",
       "    <tr>\n",
       "      <th>9</th>\n",
       "      <td>0</td>\n",
       "      <td>-2188.756445</td>\n",
       "      <td>41</td>\n",
       "      <td>среднее</td>\n",
       "      <td>1</td>\n",
       "      <td>женат / замужем</td>\n",
       "      <td>0</td>\n",
       "      <td>M</td>\n",
       "      <td>сотрудник</td>\n",
       "      <td>0</td>\n",
       "      <td>144425.938277</td>\n",
       "      <td>покупка жилья для семьи</td>\n",
       "    </tr>\n",
       "    <tr>\n",
       "      <th>10</th>\n",
       "      <td>2</td>\n",
       "      <td>-4171.483647</td>\n",
       "      <td>36</td>\n",
       "      <td>высшее</td>\n",
       "      <td>0</td>\n",
       "      <td>женат / замужем</td>\n",
       "      <td>0</td>\n",
       "      <td>M</td>\n",
       "      <td>компаньон</td>\n",
       "      <td>0</td>\n",
       "      <td>113943.491460</td>\n",
       "      <td>покупка недвижимости</td>\n",
       "    </tr>\n",
       "    <tr>\n",
       "      <th>11</th>\n",
       "      <td>0</td>\n",
       "      <td>-792.701887</td>\n",
       "      <td>40</td>\n",
       "      <td>среднее</td>\n",
       "      <td>1</td>\n",
       "      <td>женат / замужем</td>\n",
       "      <td>0</td>\n",
       "      <td>F</td>\n",
       "      <td>сотрудник</td>\n",
       "      <td>0</td>\n",
       "      <td>77069.234271</td>\n",
       "      <td>покупка коммерческой недвижимости</td>\n",
       "    </tr>\n",
       "    <tr>\n",
       "      <th>12</th>\n",
       "      <td>0</td>\n",
       "      <td>NaN</td>\n",
       "      <td>65</td>\n",
       "      <td>среднее</td>\n",
       "      <td>1</td>\n",
       "      <td>гражданский брак</td>\n",
       "      <td>1</td>\n",
       "      <td>M</td>\n",
       "      <td>пенсионер</td>\n",
       "      <td>0</td>\n",
       "      <td>NaN</td>\n",
       "      <td>сыграть свадьбу</td>\n",
       "    </tr>\n",
       "    <tr>\n",
       "      <th>13</th>\n",
       "      <td>0</td>\n",
       "      <td>-1846.641941</td>\n",
       "      <td>54</td>\n",
       "      <td>неоконченное высшее</td>\n",
       "      <td>2</td>\n",
       "      <td>женат / замужем</td>\n",
       "      <td>0</td>\n",
       "      <td>F</td>\n",
       "      <td>сотрудник</td>\n",
       "      <td>0</td>\n",
       "      <td>130458.228857</td>\n",
       "      <td>приобретение автомобиля</td>\n",
       "    </tr>\n",
       "    <tr>\n",
       "      <th>14</th>\n",
       "      <td>0</td>\n",
       "      <td>-1844.956182</td>\n",
       "      <td>56</td>\n",
       "      <td>высшее</td>\n",
       "      <td>0</td>\n",
       "      <td>гражданский брак</td>\n",
       "      <td>1</td>\n",
       "      <td>F</td>\n",
       "      <td>компаньон</td>\n",
       "      <td>1</td>\n",
       "      <td>165127.911772</td>\n",
       "      <td>покупка жилой недвижимости</td>\n",
       "    </tr>\n",
       "    <tr>\n",
       "      <th>15</th>\n",
       "      <td>1</td>\n",
       "      <td>-972.364419</td>\n",
       "      <td>26</td>\n",
       "      <td>среднее</td>\n",
       "      <td>1</td>\n",
       "      <td>женат / замужем</td>\n",
       "      <td>0</td>\n",
       "      <td>F</td>\n",
       "      <td>сотрудник</td>\n",
       "      <td>0</td>\n",
       "      <td>116820.904450</td>\n",
       "      <td>строительство собственной недвижимости</td>\n",
       "    </tr>\n",
       "    <tr>\n",
       "      <th>16</th>\n",
       "      <td>0</td>\n",
       "      <td>-1719.934226</td>\n",
       "      <td>35</td>\n",
       "      <td>среднее</td>\n",
       "      <td>1</td>\n",
       "      <td>женат / замужем</td>\n",
       "      <td>0</td>\n",
       "      <td>F</td>\n",
       "      <td>сотрудник</td>\n",
       "      <td>0</td>\n",
       "      <td>289202.704229</td>\n",
       "      <td>недвижимость</td>\n",
       "    </tr>\n",
       "    <tr>\n",
       "      <th>17</th>\n",
       "      <td>0</td>\n",
       "      <td>-2369.999720</td>\n",
       "      <td>33</td>\n",
       "      <td>высшее</td>\n",
       "      <td>0</td>\n",
       "      <td>гражданский брак</td>\n",
       "      <td>1</td>\n",
       "      <td>M</td>\n",
       "      <td>сотрудник</td>\n",
       "      <td>0</td>\n",
       "      <td>90410.586745</td>\n",
       "      <td>строительство недвижимости</td>\n",
       "    </tr>\n",
       "    <tr>\n",
       "      <th>18</th>\n",
       "      <td>0</td>\n",
       "      <td>400281.136913</td>\n",
       "      <td>53</td>\n",
       "      <td>среднее</td>\n",
       "      <td>1</td>\n",
       "      <td>вдовец / вдова</td>\n",
       "      <td>2</td>\n",
       "      <td>F</td>\n",
       "      <td>пенсионер</td>\n",
       "      <td>0</td>\n",
       "      <td>56823.777243</td>\n",
       "      <td>на покупку подержанного автомобиля</td>\n",
       "    </tr>\n",
       "    <tr>\n",
       "      <th>19</th>\n",
       "      <td>0</td>\n",
       "      <td>-10038.818549</td>\n",
       "      <td>48</td>\n",
       "      <td>СРЕДНЕЕ</td>\n",
       "      <td>1</td>\n",
       "      <td>в разводе</td>\n",
       "      <td>3</td>\n",
       "      <td>F</td>\n",
       "      <td>сотрудник</td>\n",
       "      <td>0</td>\n",
       "      <td>242831.107982</td>\n",
       "      <td>на покупку своего автомобиля</td>\n",
       "    </tr>\n",
       "  </tbody>\n",
       "</table>\n",
       "</div>"
      ],
      "text/plain": [
       "    children  days_employed  dob_years            education  education_id  \\\n",
       "0          1   -8437.673028         42               высшее             0   \n",
       "1          1   -4024.803754         36              среднее             1   \n",
       "2          0   -5623.422610         33              Среднее             1   \n",
       "3          3   -4124.747207         32              среднее             1   \n",
       "4          0  340266.072047         53              среднее             1   \n",
       "5          0    -926.185831         27               высшее             0   \n",
       "6          0   -2879.202052         43               высшее             0   \n",
       "7          0    -152.779569         50              СРЕДНЕЕ             1   \n",
       "8          2   -6929.865299         35               ВЫСШЕЕ             0   \n",
       "9          0   -2188.756445         41              среднее             1   \n",
       "10         2   -4171.483647         36               высшее             0   \n",
       "11         0    -792.701887         40              среднее             1   \n",
       "12         0            NaN         65              среднее             1   \n",
       "13         0   -1846.641941         54  неоконченное высшее             2   \n",
       "14         0   -1844.956182         56               высшее             0   \n",
       "15         1    -972.364419         26              среднее             1   \n",
       "16         0   -1719.934226         35              среднее             1   \n",
       "17         0   -2369.999720         33               высшее             0   \n",
       "18         0  400281.136913         53              среднее             1   \n",
       "19         0  -10038.818549         48              СРЕДНЕЕ             1   \n",
       "\n",
       "       family_status  family_status_id gender income_type  debt  \\\n",
       "0    женат / замужем                 0      F   сотрудник     0   \n",
       "1    женат / замужем                 0      F   сотрудник     0   \n",
       "2    женат / замужем                 0      M   сотрудник     0   \n",
       "3    женат / замужем                 0      M   сотрудник     0   \n",
       "4   гражданский брак                 1      F   пенсионер     0   \n",
       "5   гражданский брак                 1      M   компаньон     0   \n",
       "6    женат / замужем                 0      F   компаньон     0   \n",
       "7    женат / замужем                 0      M   сотрудник     0   \n",
       "8   гражданский брак                 1      F   сотрудник     0   \n",
       "9    женат / замужем                 0      M   сотрудник     0   \n",
       "10   женат / замужем                 0      M   компаньон     0   \n",
       "11   женат / замужем                 0      F   сотрудник     0   \n",
       "12  гражданский брак                 1      M   пенсионер     0   \n",
       "13   женат / замужем                 0      F   сотрудник     0   \n",
       "14  гражданский брак                 1      F   компаньон     1   \n",
       "15   женат / замужем                 0      F   сотрудник     0   \n",
       "16   женат / замужем                 0      F   сотрудник     0   \n",
       "17  гражданский брак                 1      M   сотрудник     0   \n",
       "18    вдовец / вдова                 2      F   пенсионер     0   \n",
       "19         в разводе                 3      F   сотрудник     0   \n",
       "\n",
       "     total_income                                 purpose  \n",
       "0   253875.639453                           покупка жилья  \n",
       "1   112080.014102                 приобретение автомобиля  \n",
       "2   145885.952297                           покупка жилья  \n",
       "3   267628.550329              дополнительное образование  \n",
       "4   158616.077870                         сыграть свадьбу  \n",
       "5   255763.565419                           покупка жилья  \n",
       "6   240525.971920                       операции с жильем  \n",
       "7   135823.934197                             образование  \n",
       "8    95856.832424                   на проведение свадьбы  \n",
       "9   144425.938277                 покупка жилья для семьи  \n",
       "10  113943.491460                    покупка недвижимости  \n",
       "11   77069.234271       покупка коммерческой недвижимости  \n",
       "12            NaN                         сыграть свадьбу  \n",
       "13  130458.228857                 приобретение автомобиля  \n",
       "14  165127.911772              покупка жилой недвижимости  \n",
       "15  116820.904450  строительство собственной недвижимости  \n",
       "16  289202.704229                            недвижимость  \n",
       "17   90410.586745              строительство недвижимости  \n",
       "18   56823.777243      на покупку подержанного автомобиля  \n",
       "19  242831.107982            на покупку своего автомобиля  "
      ]
     },
     "execution_count": 2,
     "metadata": {},
     "output_type": "execute_result"
    }
   ],
   "source": [
    "data.head(20)"
   ]
  },
  {
   "cell_type": "markdown",
   "id": "1c12e233",
   "metadata": {
    "deletable": false,
    "id": "1c12e233"
   },
   "source": [
    "**Задание 3. Выведите основную информацию о датафрейме с помощью метода `info()`.**"
   ]
  },
  {
   "cell_type": "code",
   "execution_count": 3,
   "id": "2b757bca",
   "metadata": {
    "deletable": false,
    "id": "2b757bca",
    "outputId": "15376089-8dad-46c9-b520-c05248d43158"
   },
   "outputs": [
    {
     "name": "stdout",
     "output_type": "stream",
     "text": [
      "<class 'pandas.core.frame.DataFrame'>\n",
      "RangeIndex: 21525 entries, 0 to 21524\n",
      "Data columns (total 12 columns):\n",
      " #   Column            Non-Null Count  Dtype  \n",
      "---  ------            --------------  -----  \n",
      " 0   children          21525 non-null  int64  \n",
      " 1   days_employed     19351 non-null  float64\n",
      " 2   dob_years         21525 non-null  int64  \n",
      " 3   education         21525 non-null  object \n",
      " 4   education_id      21525 non-null  int64  \n",
      " 5   family_status     21525 non-null  object \n",
      " 6   family_status_id  21525 non-null  int64  \n",
      " 7   gender            21525 non-null  object \n",
      " 8   income_type       21525 non-null  object \n",
      " 9   debt              21525 non-null  int64  \n",
      " 10  total_income      19351 non-null  float64\n",
      " 11  purpose           21525 non-null  object \n",
      "dtypes: float64(2), int64(5), object(5)\n",
      "memory usage: 2.0+ MB\n"
     ]
    }
   ],
   "source": [
    "data.info()"
   ]
  },
  {
   "cell_type": "markdown",
   "id": "333ec665",
   "metadata": {
    "deletable": false,
    "id": "333ec665"
   },
   "source": [
    "## Предобработка данных"
   ]
  },
  {
   "cell_type": "markdown",
   "id": "02d92d53",
   "metadata": {
    "deletable": false,
    "id": "02d92d53"
   },
   "source": [
    "### Удаление пропусков"
   ]
  },
  {
   "cell_type": "markdown",
   "id": "cd84967c",
   "metadata": {
    "deletable": false,
    "id": "cd84967c"
   },
   "source": [
    "**Задание 4. Выведите количество пропущенных значений для каждого столбца. Используйте комбинацию двух методов.**"
   ]
  },
  {
   "cell_type": "code",
   "execution_count": 4,
   "id": "7f9b2309",
   "metadata": {
    "deletable": false,
    "id": "7f9b2309",
    "outputId": "81f4d817-781c-465c-ed15-91ce4446810d"
   },
   "outputs": [
    {
     "data": {
      "text/plain": [
       "children               0\n",
       "days_employed       2174\n",
       "dob_years              0\n",
       "education              0\n",
       "education_id           0\n",
       "family_status          0\n",
       "family_status_id       0\n",
       "gender                 0\n",
       "income_type            0\n",
       "debt                   0\n",
       "total_income        2174\n",
       "purpose                0\n",
       "dtype: int64"
      ]
     },
     "execution_count": 4,
     "metadata": {},
     "output_type": "execute_result"
    }
   ],
   "source": [
    "data.isna().sum()"
   ]
  },
  {
   "cell_type": "markdown",
   "id": "db86e27b",
   "metadata": {
    "deletable": false,
    "id": "db86e27b"
   },
   "source": [
    "**Задание 5. В двух столбцах есть пропущенные значения. Один из них — `days_employed`. Пропуски в этом столбце вы обработаете на следующем этапе. Другой столбец с пропущенными значениями — `total_income` — хранит данные о доходах. На сумму дохода сильнее всего влияет тип занятости, поэтому заполнить пропуски в этом столбце нужно медианным значением по каждому типу из столбца `income_type`. Например, у человека с типом занятости `сотрудник` пропуск в столбце `total_income` должен быть заполнен медианным доходом среди всех записей с тем же типом.**"
   ]
  },
  {
   "cell_type": "code",
   "execution_count": 5,
   "id": "42006a93",
   "metadata": {
    "deletable": false,
    "id": "42006a93"
   },
   "outputs": [],
   "source": [
    "for t in data['income_type'].unique():\n",
    "    data.loc[(data['income_type'] == t) & (data['total_income'].isna()), 'total_income'] = \\\n",
    "    data.loc[(data['income_type'] == t), 'total_income'].median()"
   ]
  },
  {
   "cell_type": "markdown",
   "id": "89da5ece",
   "metadata": {
    "deletable": false,
    "id": "89da5ece"
   },
   "source": [
    "### Обработка аномальных значений"
   ]
  },
  {
   "cell_type": "markdown",
   "id": "57964554",
   "metadata": {
    "deletable": false,
    "id": "57964554"
   },
   "source": [
    "**Задание 6. В данных могут встречаться артефакты (аномалии) — значения, которые не отражают действительность и появились по какой-то ошибке. таким артефактом будет отрицательное количество дней трудового стажа в столбце `days_employed`. Для реальных данных это нормально. Обработайте значения в этом столбце: замените все отрицательные значения положительными с помощью метода `abs()`.**"
   ]
  },
  {
   "cell_type": "code",
   "execution_count": 6,
   "id": "f6f055bf",
   "metadata": {
    "deletable": false,
    "id": "f6f055bf"
   },
   "outputs": [],
   "source": [
    "data['days_employed'] = data['days_employed'].abs()"
   ]
  },
  {
   "cell_type": "markdown",
   "id": "6107dd2f",
   "metadata": {
    "deletable": false,
    "id": "6107dd2f"
   },
   "source": [
    "**Задание 7. Для каждого типа занятости выведите медианное значение трудового стажа `days_employed` в днях.**"
   ]
  },
  {
   "cell_type": "code",
   "execution_count": 7,
   "id": "85a5faf6",
   "metadata": {
    "deletable": false,
    "id": "85a5faf6",
    "outputId": "801ef80e-522b-4668-f34e-565af7432bcf"
   },
   "outputs": [
    {
     "data": {
      "text/plain": [
       "income_type\n",
       "безработный        366413.652744\n",
       "в декрете            3296.759962\n",
       "госслужащий          2689.368353\n",
       "компаньон            1547.382223\n",
       "пенсионер          365213.306266\n",
       "предприниматель       520.848083\n",
       "сотрудник            1574.202821\n",
       "студент               578.751554\n",
       "Name: days_employed, dtype: float64"
      ]
     },
     "execution_count": 7,
     "metadata": {},
     "output_type": "execute_result"
    }
   ],
   "source": [
    "data.groupby('income_type')['days_employed'].agg('median')"
   ]
  },
  {
   "cell_type": "markdown",
   "id": "38d1a030",
   "metadata": {
    "deletable": false,
    "id": "38d1a030"
   },
   "source": [
    "У двух типов (безработные и пенсионеры) получатся аномально большие значения. Исправить такие значения сложно, поэтому оставьте их как есть. Тем более этот столбец не понадобится вам для исследования."
   ]
  },
  {
   "cell_type": "markdown",
   "id": "d8a9f147",
   "metadata": {
    "deletable": false,
    "id": "d8a9f147"
   },
   "source": [
    "**Задание 8. Выведите перечень уникальных значений столбца `children`.**"
   ]
  },
  {
   "cell_type": "code",
   "execution_count": 8,
   "id": "ef5056eb",
   "metadata": {
    "deletable": false,
    "id": "ef5056eb",
    "outputId": "6975b15c-7f95-4697-d16d-a0c79b657b03"
   },
   "outputs": [
    {
     "data": {
      "text/plain": [
       "array([ 1,  0,  3,  2, -1,  4, 20,  5])"
      ]
     },
     "execution_count": 8,
     "metadata": {},
     "output_type": "execute_result"
    }
   ],
   "source": [
    "data['children'].unique()"
   ]
  },
  {
   "cell_type": "markdown",
   "id": "40b9ebf2",
   "metadata": {
    "deletable": false,
    "id": "40b9ebf2"
   },
   "source": [
    "**Задание 9. В столбце `children` есть два аномальных значения. Удалите строки, в которых встречаются такие аномальные значения из датафрейма `data`.**"
   ]
  },
  {
   "cell_type": "code",
   "execution_count": 9,
   "id": "3ff9801d",
   "metadata": {
    "deletable": false,
    "id": "3ff9801d"
   },
   "outputs": [],
   "source": [
    "data = data[(data['children'] != -1) & (data['children'] != 20)]"
   ]
  },
  {
   "cell_type": "markdown",
   "id": "bbc4d0ce",
   "metadata": {
    "deletable": false,
    "id": "bbc4d0ce"
   },
   "source": [
    "**Задание 10. Ещё раз выведите перечень уникальных значений столбца `children`, чтобы убедиться, что артефакты удалены.**"
   ]
  },
  {
   "cell_type": "code",
   "execution_count": 10,
   "id": "ad4fa8b7",
   "metadata": {
    "deletable": false,
    "id": "ad4fa8b7",
    "outputId": "b2097101-d49d-44d9-901b-32a65c9463d1"
   },
   "outputs": [
    {
     "data": {
      "text/plain": [
       "array([1, 0, 3, 2, 4, 5])"
      ]
     },
     "execution_count": 10,
     "metadata": {},
     "output_type": "execute_result"
    }
   ],
   "source": [
    "data['children'].unique()"
   ]
  },
  {
   "cell_type": "markdown",
   "id": "75440b63",
   "metadata": {
    "deletable": false,
    "id": "75440b63"
   },
   "source": [
    "### Удаление пропусков (продолжение)"
   ]
  },
  {
   "cell_type": "markdown",
   "id": "f4ea573f",
   "metadata": {
    "deletable": false,
    "id": "f4ea573f"
   },
   "source": [
    "**Задание 11. Заполните пропуски в столбце `days_employed` медианными значениями по каждого типа занятости `income_type`.**"
   ]
  },
  {
   "cell_type": "code",
   "execution_count": 11,
   "id": "af6b1a7e",
   "metadata": {
    "deletable": false,
    "id": "af6b1a7e"
   },
   "outputs": [],
   "source": [
    "for t in data['income_type'].unique():\n",
    "    data.loc[(data['income_type'] == t) & (data['days_employed'].isna()), 'days_employed'] = \\\n",
    "    data.loc[(data['income_type'] == t), 'days_employed'].median()"
   ]
  },
  {
   "cell_type": "markdown",
   "id": "2753f40d",
   "metadata": {
    "deletable": false,
    "id": "2753f40d"
   },
   "source": [
    "**Задание 12. Убедитесь, что все пропуски заполнены. Проверьте себя и ещё раз выведите количество пропущенных значений для каждого столбца с помощью двух методов.**"
   ]
  },
  {
   "cell_type": "code",
   "execution_count": 12,
   "id": "55f78bc2",
   "metadata": {
    "deletable": false,
    "id": "55f78bc2",
    "outputId": "8da1e4e1-358e-4e87-98c9-f261bce0a7b2"
   },
   "outputs": [
    {
     "data": {
      "text/plain": [
       "children            0\n",
       "days_employed       0\n",
       "dob_years           0\n",
       "education           0\n",
       "education_id        0\n",
       "family_status       0\n",
       "family_status_id    0\n",
       "gender              0\n",
       "income_type         0\n",
       "debt                0\n",
       "total_income        0\n",
       "purpose             0\n",
       "dtype: int64"
      ]
     },
     "execution_count": 12,
     "metadata": {},
     "output_type": "execute_result"
    }
   ],
   "source": [
    "data.isna().sum()"
   ]
  },
  {
   "cell_type": "markdown",
   "id": "ddc81e43",
   "metadata": {
    "deletable": false,
    "id": "ddc81e43"
   },
   "source": [
    "### Изменение типов данных"
   ]
  },
  {
   "cell_type": "markdown",
   "id": "42d19d24",
   "metadata": {
    "deletable": false,
    "id": "42d19d24"
   },
   "source": [
    "**Задание 13. Замените вещественный тип данных в столбце `total_income` на целочисленный с помощью метода `astype()`.**"
   ]
  },
  {
   "cell_type": "code",
   "execution_count": 13,
   "id": "920b65ad",
   "metadata": {
    "deletable": false,
    "id": "920b65ad"
   },
   "outputs": [],
   "source": [
    "data['total_income'] = data['total_income'].astype(int)"
   ]
  },
  {
   "cell_type": "markdown",
   "id": "80c420ba",
   "metadata": {
    "deletable": false,
    "id": "80c420ba"
   },
   "source": [
    "### Обработка дубликатов"
   ]
  },
  {
   "cell_type": "markdown",
   "id": "dc587695",
   "metadata": {
    "deletable": false,
    "id": "dc587695"
   },
   "source": [
    "**Задание 14. Выведите на экран количество строк-дубликатов в данных. Если такие строки присутствуют, удалите их.**"
   ]
  },
  {
   "cell_type": "code",
   "execution_count": 14,
   "id": "3ee445e4",
   "metadata": {
    "deletable": false,
    "id": "3ee445e4",
    "outputId": "9684deba-1934-42d1-99e1-cda61740f822"
   },
   "outputs": [
    {
     "data": {
      "text/plain": [
       "54"
      ]
     },
     "execution_count": 14,
     "metadata": {},
     "output_type": "execute_result"
    }
   ],
   "source": [
    "data.duplicated().sum()"
   ]
  },
  {
   "cell_type": "code",
   "execution_count": 15,
   "id": "8575fe05",
   "metadata": {
    "deletable": false,
    "id": "8575fe05"
   },
   "outputs": [],
   "source": [
    "data = data.drop_duplicates()"
   ]
  },
  {
   "cell_type": "markdown",
   "id": "9771a76c",
   "metadata": {
    "deletable": false,
    "id": "9771a76c"
   },
   "source": [
    "**Задание 15. Обработайте неявные дубликаты в столбце `education`. В этом столбце есть одни и те же значения, но записанные по-разному: с использованием заглавных и строчных букв. Приведите их к нижнему регистру. Проверьте остальные столбцы.**"
   ]
  },
  {
   "cell_type": "code",
   "execution_count": 16,
   "id": "a9f8e2bf",
   "metadata": {
    "deletable": false,
    "id": "a9f8e2bf"
   },
   "outputs": [],
   "source": [
    "data['education'] = data['education'].str.lower()"
   ]
  },
  {
   "cell_type": "markdown",
   "id": "9904cf55",
   "metadata": {
    "deletable": false,
    "id": "9904cf55"
   },
   "source": [
    "### Категоризация данных"
   ]
  },
  {
   "cell_type": "markdown",
   "id": "72fcc8a2",
   "metadata": {
    "deletable": false,
    "id": "72fcc8a2"
   },
   "source": [
    "**Задание 16. На основании диапазонов, указанных ниже, создайте в датафрейме `data` столбец `total_income_category` с категориями:**\n",
    "\n",
    "- 0–30000 — `'E'`;\n",
    "- 30001–50000 — `'D'`;\n",
    "- 50001–200000 — `'C'`;\n",
    "- 200001–1000000 — `'B'`;\n",
    "- 1000001 и выше — `'A'`.\n",
    "\n",
    "\n",
    "**Например, кредитополучателю с доходом 25000 нужно назначить категорию `'E'`, а клиенту, получающему 235000, — `'B'`. Используйте собственную функцию с именем `categorize_income()` и метод `apply()`.**"
   ]
  },
  {
   "cell_type": "code",
   "execution_count": 17,
   "id": "e1771346",
   "metadata": {
    "deletable": false,
    "id": "e1771346"
   },
   "outputs": [],
   "source": [
    "def categorize_income(income):\n",
    "    try:\n",
    "        if 0 <= income <= 30000:\n",
    "            return 'E'\n",
    "        elif 30001 <= income <= 50000:\n",
    "            return 'D'\n",
    "        elif 50001 <= income <= 200000:\n",
    "            return 'C'\n",
    "        elif 200001 <= income <= 1000000:\n",
    "            return 'B'\n",
    "        elif income >= 1000001:\n",
    "            return 'A'\n",
    "    except:\n",
    "        pass"
   ]
  },
  {
   "cell_type": "code",
   "execution_count": 18,
   "id": "d5f3586d",
   "metadata": {
    "deletable": false,
    "id": "d5f3586d"
   },
   "outputs": [],
   "source": [
    "data['total_income_category'] = data['total_income'].apply(categorize_income)"
   ]
  },
  {
   "cell_type": "markdown",
   "id": "dde49b5c",
   "metadata": {
    "deletable": false,
    "id": "dde49b5c"
   },
   "source": [
    "**Задание 17. Выведите на экран перечень уникальных целей взятия кредита из столбца `purpose`.**"
   ]
  },
  {
   "cell_type": "code",
   "execution_count": 19,
   "id": "f67ce9b3",
   "metadata": {
    "deletable": false,
    "id": "f67ce9b3",
    "outputId": "673c12d9-7d7e-4ae0-9812-c622c89dd244"
   },
   "outputs": [
    {
     "data": {
      "text/plain": [
       "array(['покупка жилья', 'приобретение автомобиля',\n",
       "       'дополнительное образование', 'сыграть свадьбу',\n",
       "       'операции с жильем', 'образование', 'на проведение свадьбы',\n",
       "       'покупка жилья для семьи', 'покупка недвижимости',\n",
       "       'покупка коммерческой недвижимости', 'покупка жилой недвижимости',\n",
       "       'строительство собственной недвижимости', 'недвижимость',\n",
       "       'строительство недвижимости', 'на покупку подержанного автомобиля',\n",
       "       'на покупку своего автомобиля',\n",
       "       'операции с коммерческой недвижимостью',\n",
       "       'строительство жилой недвижимости', 'жилье',\n",
       "       'операции со своей недвижимостью', 'автомобили',\n",
       "       'заняться образованием', 'сделка с подержанным автомобилем',\n",
       "       'получение образования', 'автомобиль', 'свадьба',\n",
       "       'получение дополнительного образования', 'покупка своего жилья',\n",
       "       'операции с недвижимостью', 'получение высшего образования',\n",
       "       'свой автомобиль', 'сделка с автомобилем',\n",
       "       'профильное образование', 'высшее образование',\n",
       "       'покупка жилья для сдачи', 'на покупку автомобиля', 'ремонт жилью',\n",
       "       'заняться высшим образованием'], dtype=object)"
      ]
     },
     "execution_count": 19,
     "metadata": {},
     "output_type": "execute_result"
    }
   ],
   "source": [
    "data['purpose'].unique()"
   ]
  },
  {
   "cell_type": "markdown",
   "id": "85d0aef0",
   "metadata": {
    "deletable": false,
    "id": "85d0aef0"
   },
   "source": [
    "**Задание 18. Создайте функцию, которая на основании данных из столбца `purpose` сформирует новый столбец `purpose_category`, в который войдут следующие категории:**\n",
    "\n",
    "- `'операции с автомобилем'`,\n",
    "- `'операции с недвижимостью'`,\n",
    "- `'проведение свадьбы'`,\n",
    "- `'получение образования'`.\n",
    "\n",
    "**Например, если в столбце `purpose` находится подстрока `'на покупку автомобиля'`, то в столбце `purpose_category` должна появиться строка `'операции с автомобилем'`.**\n",
    "\n",
    "**Используйте собственную функцию с именем `categorize_purpose()` и метод `apply()`. Изучите данные в столбце `purpose` и определите, какие подстроки помогут вам правильно определить категорию.**"
   ]
  },
  {
   "cell_type": "code",
   "execution_count": 20,
   "id": "e149fab4",
   "metadata": {
    "deletable": false,
    "id": "e149fab4"
   },
   "outputs": [],
   "source": [
    "def categorize_purpose(row):\n",
    "    try:\n",
    "        if 'автом' in row:\n",
    "            return 'операции с автомобилем'\n",
    "        elif 'жил' in row or 'недвиж' in row:\n",
    "            return 'операции с недвижимостью'\n",
    "        elif 'свад' in row:\n",
    "            return 'проведение свадьбы'\n",
    "        elif 'образов' in row:\n",
    "            return 'получение образования'\n",
    "    except:\n",
    "        return 'нет категории'"
   ]
  },
  {
   "cell_type": "code",
   "execution_count": 21,
   "id": "bf36e69b",
   "metadata": {
    "deletable": false,
    "id": "bf36e69b"
   },
   "outputs": [],
   "source": [
    "data['purpose_category'] = data['purpose'].apply(categorize_purpose)"
   ]
  },
  {
   "cell_type": "markdown",
   "id": "09b242bf",
   "metadata": {
    "deletable": false,
    "editable": false,
    "id": "09b242bf"
   },
   "source": [
    "## Исследуйте данные и ответьте на вопросы"
   ]
  },
  {
   "cell_type": "markdown",
   "id": "c5d66278",
   "metadata": {
    "deletable": false,
    "editable": false,
    "id": "c5d66278"
   },
   "source": [
    "**Задание 19. Есть ли зависимость между количеством детей и возвратом кредита в срок?**"
   ]
  },
  {
   "cell_type": "code",
   "execution_count": 22,
   "id": "197deaaf",
   "metadata": {},
   "outputs": [
    {
     "name": "stdout",
     "output_type": "stream",
     "text": [
      "children\n",
      "4    9.8\n",
      "2    9.5\n",
      "1    9.2\n",
      "3    8.2\n",
      "0    7.5\n",
      "5    0.0\n",
      "Name: debt, dtype: float64\n"
     ]
    }
   ],
   "source": [
    "share = data.groupby('children')['debt'].sum()/data.groupby('children')['debt'].count()*100 #отношение должников ко всем заемщикам\n",
    "\n",
    "print(share.sort_values(ascending = False).round(1))\n",
    "\n"
   ]
  },
  {
   "cell_type": "code",
   "execution_count": 23,
   "id": "02ac605c",
   "metadata": {},
   "outputs": [
    {
     "name": "stdout",
     "output_type": "stream",
     "text": [
      "children                 7241\n",
      "days_employed            7241\n",
      "dob_years                7241\n",
      "education                7241\n",
      "education_id             7241\n",
      "family_status            7241\n",
      "family_status_id         7241\n",
      "gender                   7241\n",
      "income_type              7241\n",
      "debt                     7241\n",
      "total_income             7241\n",
      "purpose                  7241\n",
      "total_income_category    7241\n",
      "purpose_category         7241\n",
      "dtype: int64\n"
     ]
    }
   ],
   "source": [
    "child = data[data['children'] > 0].count() #сколько всего заемщиков имеет детей\n",
    "print(child)"
   ]
  },
  {
   "cell_type": "code",
   "execution_count": 24,
   "id": "bda7994b",
   "metadata": {},
   "outputs": [
    {
     "name": "stdout",
     "output_type": "stream",
     "text": [
      "children\n",
      "0     0.0\n",
      "1    66.4\n",
      "2    56.7\n",
      "3    13.7\n",
      "4     2.3\n",
      "5     0.6\n",
      "Name: children, dtype: float64\n"
     ]
    }
   ],
   "source": [
    "print((data.groupby('children')['children'].sum()/7241*100).round(1)) #процент по каждому количетсву детей от общего количетсва заемщиков с детьми\n",
    "\n"
   ]
  },
  {
   "cell_type": "markdown",
   "id": "3a6b99ec",
   "metadata": {
    "deletable": false,
    "id": "3a6b99ec"
   },
   "source": [
    "**Вывод:** \n",
    "Самое большое количество должников приходится на заемщиков с детьми.\n",
    "4 ребенка 9,8%\n",
    "2 ребенка 9,5%\n",
    "1 ребенок 9,2%\n",
    "3 ребенка 8,2%\n",
    "\n",
    "На количество заемщиков без детей приходится 7,5% должников. \n",
    "\n",
    "По расчетам получилось, что на число заемщиков с 5 детьми, приходится 0% должников, но это может быть обусловлено слишком маленькой выборкой - число заемщиков с 5 детьми составляет лишь 0,5% от общего числа заемщиков с детьми.\n",
    "\n",
    "Получается, что само наличие детей действительно влияет на риск просрочки, но прямой зависимости от количетсва детей нет."
   ]
  },
  {
   "cell_type": "markdown",
   "id": "eeda4f8a",
   "metadata": {},
   "source": [
    "<div class=\"alert alert-success\">\n",
    "<b>✔️ Комментарий ревьюера v1:</b> \n",
    "<br>Верно! \n",
    "</div>"
   ]
  },
  {
   "cell_type": "markdown",
   "id": "97be82ca",
   "metadata": {
    "deletable": false,
    "editable": false,
    "id": "97be82ca"
   },
   "source": [
    "**Задание 20. Есть ли зависимость между семейным положением и возвратом кредита в срок?**"
   ]
  },
  {
   "cell_type": "code",
   "execution_count": 25,
   "id": "dc3f7ee8",
   "metadata": {
    "id": "dc3f7ee8"
   },
   "outputs": [
    {
     "name": "stdout",
     "output_type": "stream",
     "text": [
      "family_status\n",
      "Не женат / не замужем    9.8\n",
      "гражданский брак         9.3\n",
      "женат / замужем          7.6\n",
      "в разводе                7.1\n",
      "вдовец / вдова           6.6\n",
      "Name: debt, dtype: float64\n"
     ]
    }
   ],
   "source": [
    "fs = data.groupby('family_status')['debt'].sum()/data.groupby('family_status')['debt'].count()*100 #отношение каждой категории семейного положения должников к общему количеству заемщиков\n",
    "print(fs.sort_values(ascending = False).round(1))"
   ]
  },
  {
   "cell_type": "markdown",
   "id": "1cef7837",
   "metadata": {
    "deletable": false,
    "id": "1cef7837"
   },
   "source": [
    "**Вывод:** Зависимость между семейным положением и возвратом кредита в срок есть -- не женатые/не замужние заёмщики чаще других становятся должниками, они составляют 9,8%"
   ]
  },
  {
   "cell_type": "markdown",
   "id": "535280c4",
   "metadata": {},
   "source": [
    "<div class=\"alert alert-success\">\n",
    "<b>✔️ Комментарий ревьюера v1:</b> \n",
    "<br>Тут всё правильно\n",
    "</div>"
   ]
  },
  {
   "cell_type": "markdown",
   "id": "1e8b2fca",
   "metadata": {
    "deletable": false,
    "editable": false,
    "id": "1e8b2fca"
   },
   "source": [
    "**Задание 21. Есть ли зависимость между уровнем дохода и возвратом кредита в срок?**"
   ]
  },
  {
   "cell_type": "code",
   "execution_count": 26,
   "id": "cd7e3720",
   "metadata": {
    "id": "cd7e3720"
   },
   "outputs": [
    {
     "name": "stdout",
     "output_type": "stream",
     "text": [
      "total_income_category\n",
      "E    9.1\n",
      "C    8.5\n",
      "A    8.0\n",
      "B    7.1\n",
      "D    6.0\n",
      "Name: debt, dtype: float64\n"
     ]
    }
   ],
   "source": [
    "income = data.groupby('total_income_category')['debt'].sum()/data.groupby('total_income_category')['debt'].count()*100 #отношение каждой категории доходов к общему количеству заемщиков \n",
    "print(income.sort_values(ascending = False).round(1))"
   ]
  },
  {
   "cell_type": "markdown",
   "id": "e8593def",
   "metadata": {
    "deletable": false,
    "id": "e8593def"
   },
   "source": [
    "**Вывод:** \n",
    "Самую большую долю должников, 9,1% занимают заемщики с самым низким доходом, категории Е - до 30000р.\n",
    "При этом меньшая доля должников 6% - это заемщики с доходом категории D - 30001-50000р., то есть тоже не самым высоким.\n",
    "Соответственно, прямой зависимости от дохода по каждой категории нет. Только категория с самыми низкими доходами чаще копит долги."
   ]
  },
  {
   "cell_type": "markdown",
   "id": "6a8bfdfe",
   "metadata": {},
   "source": [
    "<div class=\"alert alert-success\">\n",
    "<b>✔️ Комментарий ревьюера v1:</b> \n",
    "<br>Согласен! Идём дальше)\n",
    "</div>"
   ]
  },
  {
   "cell_type": "markdown",
   "id": "99ecbd1f",
   "metadata": {
    "deletable": false,
    "editable": false,
    "id": "99ecbd1f"
   },
   "source": [
    "**Задание 22. Как разные цели кредита влияют на его возврат в срок?**"
   ]
  },
  {
   "cell_type": "code",
   "execution_count": 27,
   "id": "2b687290",
   "metadata": {
    "id": "2b687290"
   },
   "outputs": [
    {
     "name": "stdout",
     "output_type": "stream",
     "text": [
      "purpose_category\n",
      "операции с автомобилем      9.3\n",
      "получение образования       9.3\n",
      "проведение свадьбы          7.9\n",
      "операции с недвижимостью    7.3\n",
      "Name: debt, dtype: float64\n"
     ]
    }
   ],
   "source": [
    "purpose = data.groupby('purpose_category')['debt'].sum()/data.groupby('purpose_category')['debt'].count()*100 #отношение количества причин у должников к общему количесту займов\n",
    "print(purpose.sort_values(ascending = False).round(1))\n"
   ]
  },
  {
   "cell_type": "markdown",
   "id": "b4bb2ce6",
   "metadata": {
    "deletable": false,
    "id": "b4bb2ce6"
   },
   "source": [
    "**Вывод:** \n",
    "Займы на операции с автомобилем и получение образования дают больший риск просрочки кредита -- по 9,3% заемщиков в каждой категории е вернули займ в срок. \n",
    "Займы на проведение свадеб и операции с недвижимостью реже становятся просроченными, в 7,9% и 7,3% случаев соответственно."
   ]
  },
  {
   "cell_type": "markdown",
   "id": "b405dac6",
   "metadata": {},
   "source": [
    "<div class=\"alert alert-success\">\n",
    "<b>✔️ Комментарий ревьюера v1:</b>\n",
    "<br>Абсолютно верно!\n",
    "</div>"
   ]
  },
  {
   "cell_type": "markdown",
   "id": "09c3ac4c",
   "metadata": {
    "deletable": false,
    "editable": false,
    "id": "09c3ac4c"
   },
   "source": [
    "**Задание 23. Приведите возможные причины появления пропусков в исходных данных.**"
   ]
  },
  {
   "cell_type": "markdown",
   "id": "9da2ceda",
   "metadata": {
    "deletable": false,
    "id": "9da2ceda"
   },
   "source": [
    "*Ответ:* \n",
    "- проблемы с выгрузкой/неверно выгрузили/выгрузили не всё\n",
    "- пользователи не вводили данные, если поле не обязательно. Пользователи ввели данные не туда\n",
    "- информация не известна\n",
    "- человеческий фактор, недозаполнили, пропустили"
   ]
  },
  {
   "cell_type": "markdown",
   "id": "74f05983",
   "metadata": {},
   "source": [
    "<div class=\"alert alert-success\">\n",
    "<b>✔️ Комментарий ревьюера v1:</b> \n",
    "<br>Верно 👍\n",
    "</div>"
   ]
  },
  {
   "cell_type": "markdown",
   "id": "7b0487d6",
   "metadata": {
    "deletable": false,
    "editable": false,
    "id": "7b0487d6"
   },
   "source": [
    "**Задание 24. Объясните, почему заполнить пропуски медианным значением — лучшее решение для количественных переменных.**"
   ]
  },
  {
   "cell_type": "markdown",
   "id": "7ecf2b8e",
   "metadata": {
    "deletable": false,
    "id": "7ecf2b8e"
   },
   "source": [
    "*Ответ:* \n",
    "Медианное значение корректнее отобразит показатель, потому что оно находится как раз посередине всех значений. А среднее арифметическое может сильно сдвинуться из-за нескольких слишком высоких/низких значениях"
   ]
  },
  {
   "cell_type": "markdown",
   "id": "f374a0d7",
   "metadata": {},
   "source": [
    "<div class=\"alert alert-success\">\n",
    "<b>✔️ Комментарий ревьюера v1:</b> \n",
    "<br>Точно! Супер, что ты помнишь об этом различии\n",
    "</div>"
   ]
  },
  {
   "cell_type": "markdown",
   "id": "6db5255a",
   "metadata": {
    "deletable": false,
    "editable": false,
    "id": "6db5255a"
   },
   "source": [
    "## Общий вывод."
   ]
  },
  {
   "cell_type": "markdown",
   "id": "bad65432",
   "metadata": {
    "id": "bad65432"
   },
   "source": [
    "Разброс по видам должником не явный, больших отрывов нет. По результатам анализа можно сказать, что чаще проблемы со своевременно оплатой имеют люди с детьми, с доходом менее 30000р, холостые, но при этом прямой зависимости от при увеличении дохода или изменении семейного положения нет. Вероятно, необходима более широкая выборка или более глубокий анализ."
   ]
  },
  {
   "cell_type": "markdown",
   "id": "9f8d8310",
   "metadata": {},
   "source": [
    "<div class=\"alert alert-success\">\n",
    "<b>✔️ Комментарий ревьюера v1:</b> \n",
    "<br>Всё верно 👍\n",
    "</div>"
   ]
  },
  {
   "cell_type": "markdown",
   "id": "b60e19cf",
   "metadata": {},
   "source": [
    "<div class=\"alert alert-success\">\n",
    "<b>✔️ Итоговый комментарий ревьюера v1:</b>\n",
    "<br>Я бы мог принять твою работу с первого раза, но хочу дать тебе возможность задать мне вопросы) Если вопросов нет, то я с радостью приму проект)\n",
    "</div>\n"
   ]
  },
  {
   "cell_type": "markdown",
   "id": "94ba15ab",
   "metadata": {},
   "source": [
    "<div class=\"alert alert-info\">\n",
    "    <b>Комментарий студента:</b>\n",
    "   <br>Мне почему-то очень неожиданно, я была совсем не уверена в своей работе, потому что мне кажется, что код можно как-то оптимизировать и сделать короче, но мне пока сложно. Читала комментарии других ребят, многие делали по-разному. Мне было бы интересно узнать что-то вроде эталонного решения такой задачи, какие лучше методы использовать.\n",
    "   <br>Второе сомнение в итоговом выводе. Я думала, что в итог надо всегда приносить какую-то сводную, где видно всё и сразу. Но я не придумала, как это можно сделать или объединить. Поэтому тоже было бы интересно, возможно ли представить вывод не текстом, а схематично и что для этого можно использовать.\n",
    " <br>Спасибо за обратную связь, рада, что у меня получилось, очень мотивирует))\n",
    "    </div>"
   ]
  },
  {
   "cell_type": "markdown",
   "id": "5e8b7d49",
   "metadata": {},
   "source": [
    "<div class=\"alert alert-success\">\n",
    "<b>✔️ Комментарий ревьюера v2:</b>\n",
    "<br>Оптимально тут делать через сводные таблицы. Можно написать функцию, которая будет это делать, а тебе останется только менять названия столбцов) Код оставляю ниже\n",
    "</div>"
   ]
  },
  {
   "cell_type": "code",
   "execution_count": 28,
   "id": "2bb8b5fa",
   "metadata": {},
   "outputs": [
    {
     "data": {
      "text/html": [
       "<div>\n",
       "<style scoped>\n",
       "    .dataframe tbody tr th:only-of-type {\n",
       "        vertical-align: middle;\n",
       "    }\n",
       "\n",
       "    .dataframe tbody tr th {\n",
       "        vertical-align: top;\n",
       "    }\n",
       "\n",
       "    .dataframe thead tr th {\n",
       "        text-align: left;\n",
       "    }\n",
       "\n",
       "    .dataframe thead tr:last-of-type th {\n",
       "        text-align: right;\n",
       "    }\n",
       "</style>\n",
       "<table border=\"1\" class=\"dataframe\">\n",
       "  <thead>\n",
       "    <tr>\n",
       "      <th></th>\n",
       "      <th>count</th>\n",
       "      <th>sum</th>\n",
       "      <th>mean</th>\n",
       "    </tr>\n",
       "    <tr>\n",
       "      <th></th>\n",
       "      <th>debt</th>\n",
       "      <th>debt</th>\n",
       "      <th>debt</th>\n",
       "    </tr>\n",
       "    <tr>\n",
       "      <th>family_status</th>\n",
       "      <th></th>\n",
       "      <th></th>\n",
       "      <th></th>\n",
       "    </tr>\n",
       "  </thead>\n",
       "  <tbody>\n",
       "    <tr>\n",
       "      <th>Не женат / не замужем</th>\n",
       "      <td>2796</td>\n",
       "      <td>273</td>\n",
       "      <td>0.097639</td>\n",
       "    </tr>\n",
       "    <tr>\n",
       "      <th>в разводе</th>\n",
       "      <td>1189</td>\n",
       "      <td>84</td>\n",
       "      <td>0.070648</td>\n",
       "    </tr>\n",
       "    <tr>\n",
       "      <th>вдовец / вдова</th>\n",
       "      <td>951</td>\n",
       "      <td>63</td>\n",
       "      <td>0.066246</td>\n",
       "    </tr>\n",
       "    <tr>\n",
       "      <th>гражданский брак</th>\n",
       "      <td>4146</td>\n",
       "      <td>385</td>\n",
       "      <td>0.092861</td>\n",
       "    </tr>\n",
       "    <tr>\n",
       "      <th>женат / замужем</th>\n",
       "      <td>12266</td>\n",
       "      <td>927</td>\n",
       "      <td>0.075575</td>\n",
       "    </tr>\n",
       "  </tbody>\n",
       "</table>\n",
       "</div>"
      ],
      "text/plain": [
       "                       count  sum      mean\n",
       "                        debt debt      debt\n",
       "family_status                              \n",
       "Не женат / не замужем   2796  273  0.097639\n",
       "в разводе               1189   84  0.070648\n",
       "вдовец / вдова           951   63  0.066246\n",
       "гражданский брак        4146  385  0.092861\n",
       "женат / замужем        12266  927  0.075575"
      ]
     },
     "execution_count": 28,
     "metadata": {},
     "output_type": "execute_result"
    }
   ],
   "source": [
    "#код ревьюера\n",
    "def create_pivot_table(column):\n",
    "    return data.pivot_table(index=[column], values='debt', aggfunc=['count', 'sum', 'mean'])\n",
    "\n",
    "create_pivot_table('family_status')"
   ]
  },
  {
   "cell_type": "markdown",
   "id": "46d70568",
   "metadata": {},
   "source": [
    "<div class=\"alert alert-success\">\n",
    "<b>✔️ Комментарий ревьюера v2:</b>\n",
    "<br>В общем выводе тут важно выделить самого \"опасного\" клиента для банка, что ты и сделала. Ведь именно этим клиентам будет уделяться наибольшее внимание с целью уменьшить уровень просрочки в их группе.\n",
    "</div>"
   ]
  },
  {
   "cell_type": "markdown",
   "id": "f215a389",
   "metadata": {},
   "source": [
    "<div class=\"alert alert-success\">\n",
    "<b>✔️ Итоговый комментарий ревьюера v2:</b>\n",
    "<br>Рад был поработать над проверкой твоего проекта) Желаю удачи в дальнейшем обучении! 😉\n",
    "</div>"
   ]
  }
 ],
 "metadata": {
  "ExecuteTimeLog": [
   {
    "duration": 440,
    "start_time": "2022-07-04T13:24:35.242Z"
   },
   {
    "duration": 20,
    "start_time": "2022-07-04T13:24:35.683Z"
   },
   {
    "duration": 14,
    "start_time": "2022-07-04T13:24:35.705Z"
   },
   {
    "duration": 8,
    "start_time": "2022-07-04T13:24:35.721Z"
   },
   {
    "duration": 34,
    "start_time": "2022-07-04T13:24:35.730Z"
   },
   {
    "duration": 26,
    "start_time": "2022-07-04T13:24:35.766Z"
   },
   {
    "duration": 11,
    "start_time": "2022-07-04T13:24:35.794Z"
   },
   {
    "duration": 4,
    "start_time": "2022-07-04T13:24:35.807Z"
   },
   {
    "duration": 11,
    "start_time": "2022-07-04T13:24:35.812Z"
   },
   {
    "duration": 8,
    "start_time": "2022-07-04T13:24:35.827Z"
   },
   {
    "duration": 45,
    "start_time": "2022-07-04T13:24:35.837Z"
   },
   {
    "duration": 8,
    "start_time": "2022-07-04T13:24:35.884Z"
   },
   {
    "duration": 6,
    "start_time": "2022-07-04T13:24:35.893Z"
   },
   {
    "duration": 28,
    "start_time": "2022-07-04T13:24:35.900Z"
   },
   {
    "duration": 17,
    "start_time": "2022-07-04T13:24:35.930Z"
   },
   {
    "duration": 10,
    "start_time": "2022-07-04T13:24:35.948Z"
   },
   {
    "duration": 29,
    "start_time": "2022-07-04T13:24:35.959Z"
   },
   {
    "duration": 14,
    "start_time": "2022-07-04T13:24:35.989Z"
   },
   {
    "duration": 5,
    "start_time": "2022-07-04T13:24:36.004Z"
   },
   {
    "duration": 4,
    "start_time": "2022-07-04T13:24:36.010Z"
   },
   {
    "duration": 14,
    "start_time": "2022-07-04T13:24:36.015Z"
   },
   {
    "duration": 4,
    "start_time": "2022-07-04T13:24:36.030Z"
   },
   {
    "duration": 6,
    "start_time": "2022-07-04T13:24:36.036Z"
   },
   {
    "duration": 7,
    "start_time": "2022-07-04T13:24:36.043Z"
   },
   {
    "duration": 5,
    "start_time": "2022-07-04T13:24:36.051Z"
   },
   {
    "duration": 612,
    "start_time": "2022-07-05T07:57:15.913Z"
   },
   {
    "duration": 22,
    "start_time": "2022-07-05T07:57:16.527Z"
   },
   {
    "duration": 31,
    "start_time": "2022-07-05T07:57:16.551Z"
   },
   {
    "duration": 17,
    "start_time": "2022-07-05T07:57:16.585Z"
   },
   {
    "duration": 44,
    "start_time": "2022-07-05T07:57:16.606Z"
   },
   {
    "duration": 5,
    "start_time": "2022-07-05T07:57:16.652Z"
   },
   {
    "duration": 21,
    "start_time": "2022-07-05T07:57:16.659Z"
   },
   {
    "duration": 37,
    "start_time": "2022-07-05T07:57:16.682Z"
   },
   {
    "duration": 11,
    "start_time": "2022-07-05T07:57:16.721Z"
   },
   {
    "duration": 5,
    "start_time": "2022-07-05T07:57:16.734Z"
   },
   {
    "duration": 52,
    "start_time": "2022-07-05T07:57:16.741Z"
   },
   {
    "duration": 15,
    "start_time": "2022-07-05T07:57:16.795Z"
   },
   {
    "duration": 10,
    "start_time": "2022-07-05T07:57:16.812Z"
   },
   {
    "duration": 20,
    "start_time": "2022-07-05T07:57:16.823Z"
   },
   {
    "duration": 33,
    "start_time": "2022-07-05T07:57:16.845Z"
   },
   {
    "duration": 22,
    "start_time": "2022-07-05T07:57:16.880Z"
   },
   {
    "duration": 12,
    "start_time": "2022-07-05T07:57:16.906Z"
   },
   {
    "duration": 13,
    "start_time": "2022-07-05T07:57:16.920Z"
   },
   {
    "duration": 11,
    "start_time": "2022-07-05T07:57:16.935Z"
   },
   {
    "duration": 4,
    "start_time": "2022-07-05T07:57:16.948Z"
   },
   {
    "duration": 28,
    "start_time": "2022-07-05T07:57:16.953Z"
   },
   {
    "duration": 29,
    "start_time": "2022-07-05T07:57:16.983Z"
   },
   {
    "duration": 6,
    "start_time": "2022-07-05T07:57:17.014Z"
   },
   {
    "duration": 8,
    "start_time": "2022-07-05T07:57:17.021Z"
   },
   {
    "duration": 7,
    "start_time": "2022-07-05T07:57:17.030Z"
   },
   {
    "duration": 89,
    "start_time": "2022-07-05T07:59:34.645Z"
   },
   {
    "duration": 26,
    "start_time": "2022-07-05T08:00:29.411Z"
   },
   {
    "duration": 6,
    "start_time": "2022-07-05T08:01:12.554Z"
   },
   {
    "duration": 8,
    "start_time": "2022-07-05T08:01:20.487Z"
   },
   {
    "duration": 3,
    "start_time": "2022-07-05T08:01:33.315Z"
   },
   {
    "duration": 4,
    "start_time": "2022-07-05T08:01:38.098Z"
   },
   {
    "duration": 6,
    "start_time": "2022-07-05T08:01:41.004Z"
   },
   {
    "duration": 10,
    "start_time": "2022-07-05T08:11:20.048Z"
   },
   {
    "duration": 33,
    "start_time": "2022-07-05T08:11:37.418Z"
   },
   {
    "duration": 6,
    "start_time": "2022-07-05T08:14:12.185Z"
   },
   {
    "duration": 6,
    "start_time": "2022-07-05T08:14:25.879Z"
   },
   {
    "duration": 6,
    "start_time": "2022-07-05T08:14:31.296Z"
   },
   {
    "duration": 8,
    "start_time": "2022-07-05T08:20:00.800Z"
   },
   {
    "duration": 23,
    "start_time": "2022-07-05T08:20:12.560Z"
   },
   {
    "duration": 12,
    "start_time": "2022-07-05T08:20:30.835Z"
   },
   {
    "duration": 23,
    "start_time": "2022-07-05T08:20:39.948Z"
   },
   {
    "duration": 15,
    "start_time": "2022-07-05T08:21:11.492Z"
   },
   {
    "duration": 9,
    "start_time": "2022-07-05T08:22:14.910Z"
   },
   {
    "duration": 7,
    "start_time": "2022-07-05T08:22:26.421Z"
   },
   {
    "duration": 8,
    "start_time": "2022-07-05T08:22:44.221Z"
   },
   {
    "duration": 49,
    "start_time": "2022-07-05T12:57:21.646Z"
   },
   {
    "duration": 516,
    "start_time": "2022-07-05T12:57:32.756Z"
   },
   {
    "duration": 25,
    "start_time": "2022-07-05T12:57:33.274Z"
   },
   {
    "duration": 15,
    "start_time": "2022-07-05T12:57:33.301Z"
   },
   {
    "duration": 13,
    "start_time": "2022-07-05T12:57:33.317Z"
   },
   {
    "duration": 49,
    "start_time": "2022-07-05T12:57:33.332Z"
   },
   {
    "duration": 4,
    "start_time": "2022-07-05T12:57:33.382Z"
   },
   {
    "duration": 14,
    "start_time": "2022-07-05T12:57:33.388Z"
   },
   {
    "duration": 6,
    "start_time": "2022-07-05T12:57:33.403Z"
   },
   {
    "duration": 17,
    "start_time": "2022-07-05T12:57:33.410Z"
   },
   {
    "duration": 6,
    "start_time": "2022-07-05T12:57:33.428Z"
   },
   {
    "duration": 42,
    "start_time": "2022-07-05T12:57:33.436Z"
   },
   {
    "duration": 9,
    "start_time": "2022-07-05T12:57:33.480Z"
   },
   {
    "duration": 5,
    "start_time": "2022-07-05T12:57:33.491Z"
   },
   {
    "duration": 39,
    "start_time": "2022-07-05T12:57:33.498Z"
   },
   {
    "duration": 17,
    "start_time": "2022-07-05T12:57:33.538Z"
   },
   {
    "duration": 10,
    "start_time": "2022-07-05T12:57:33.557Z"
   },
   {
    "duration": 7,
    "start_time": "2022-07-05T12:57:33.569Z"
   },
   {
    "duration": 13,
    "start_time": "2022-07-05T12:57:33.577Z"
   },
   {
    "duration": 32,
    "start_time": "2022-07-05T12:57:33.591Z"
   },
   {
    "duration": 4,
    "start_time": "2022-07-05T12:57:33.625Z"
   },
   {
    "duration": 35,
    "start_time": "2022-07-05T12:57:33.631Z"
   },
   {
    "duration": 22,
    "start_time": "2022-07-05T12:57:33.667Z"
   },
   {
    "duration": 6,
    "start_time": "2022-07-05T12:57:33.690Z"
   },
   {
    "duration": 10,
    "start_time": "2022-07-05T12:57:33.697Z"
   },
   {
    "duration": 4,
    "start_time": "2022-07-05T12:57:33.708Z"
   },
   {
    "duration": 18,
    "start_time": "2022-07-05T12:57:33.713Z"
   },
   {
    "duration": 12,
    "start_time": "2022-07-05T12:57:33.733Z"
   },
   {
    "duration": 9,
    "start_time": "2022-07-05T13:43:39.669Z"
   },
   {
    "duration": 4,
    "start_time": "2022-07-05T13:44:04.733Z"
   },
   {
    "duration": 9,
    "start_time": "2022-07-05T13:44:36.019Z"
   },
   {
    "duration": 12,
    "start_time": "2022-07-05T13:45:04.020Z"
   },
   {
    "duration": 6,
    "start_time": "2022-07-05T13:45:11.800Z"
   },
   {
    "duration": 11,
    "start_time": "2022-07-05T13:45:52.550Z"
   },
   {
    "duration": 12,
    "start_time": "2022-07-05T13:46:01.762Z"
   },
   {
    "duration": 10,
    "start_time": "2022-07-05T13:47:00.118Z"
   },
   {
    "duration": 10,
    "start_time": "2022-07-05T13:47:09.777Z"
   },
   {
    "duration": 14,
    "start_time": "2022-07-05T13:47:19.015Z"
   },
   {
    "duration": 52,
    "start_time": "2022-07-05T13:47:36.266Z"
   },
   {
    "duration": 11,
    "start_time": "2022-07-05T13:47:40.078Z"
   },
   {
    "duration": 73,
    "start_time": "2022-07-05T13:47:56.874Z"
   },
   {
    "duration": 12,
    "start_time": "2022-07-05T13:48:39.286Z"
   },
   {
    "duration": 14,
    "start_time": "2022-07-05T13:48:58.330Z"
   },
   {
    "duration": 11,
    "start_time": "2022-07-05T13:49:04.182Z"
   },
   {
    "duration": 8,
    "start_time": "2022-07-05T13:49:20.099Z"
   },
   {
    "duration": 11,
    "start_time": "2022-07-05T13:50:58.912Z"
   },
   {
    "duration": 12,
    "start_time": "2022-07-05T13:53:03.534Z"
   },
   {
    "duration": 465,
    "start_time": "2022-07-05T14:35:14.743Z"
   },
   {
    "duration": 22,
    "start_time": "2022-07-05T14:35:15.210Z"
   },
   {
    "duration": 36,
    "start_time": "2022-07-05T14:35:15.234Z"
   },
   {
    "duration": 11,
    "start_time": "2022-07-05T14:35:15.272Z"
   },
   {
    "duration": 42,
    "start_time": "2022-07-05T14:35:15.284Z"
   },
   {
    "duration": 4,
    "start_time": "2022-07-05T14:35:15.328Z"
   },
   {
    "duration": 10,
    "start_time": "2022-07-05T14:35:15.334Z"
   },
   {
    "duration": 4,
    "start_time": "2022-07-05T14:35:15.346Z"
   },
   {
    "duration": 14,
    "start_time": "2022-07-05T14:35:15.352Z"
   },
   {
    "duration": 4,
    "start_time": "2022-07-05T14:35:15.368Z"
   },
   {
    "duration": 57,
    "start_time": "2022-07-05T14:35:15.374Z"
   },
   {
    "duration": 11,
    "start_time": "2022-07-05T14:35:15.433Z"
   },
   {
    "duration": 9,
    "start_time": "2022-07-05T14:35:15.446Z"
   },
   {
    "duration": 29,
    "start_time": "2022-07-05T14:35:15.457Z"
   },
   {
    "duration": 19,
    "start_time": "2022-07-05T14:35:15.488Z"
   },
   {
    "duration": 25,
    "start_time": "2022-07-05T14:35:15.509Z"
   },
   {
    "duration": 8,
    "start_time": "2022-07-05T14:35:15.536Z"
   },
   {
    "duration": 20,
    "start_time": "2022-07-05T14:35:15.545Z"
   },
   {
    "duration": 9,
    "start_time": "2022-07-05T14:35:15.566Z"
   },
   {
    "duration": 4,
    "start_time": "2022-07-05T14:35:15.577Z"
   },
   {
    "duration": 16,
    "start_time": "2022-07-05T14:35:15.582Z"
   },
   {
    "duration": 31,
    "start_time": "2022-07-05T14:35:15.600Z"
   },
   {
    "duration": 6,
    "start_time": "2022-07-05T14:35:15.633Z"
   },
   {
    "duration": 17,
    "start_time": "2022-07-05T14:35:15.640Z"
   },
   {
    "duration": 11,
    "start_time": "2022-07-05T14:35:15.658Z"
   },
   {
    "duration": 12,
    "start_time": "2022-07-05T14:35:15.671Z"
   },
   {
    "duration": 21,
    "start_time": "2022-07-05T14:35:15.685Z"
   },
   {
    "duration": 11,
    "start_time": "2022-07-05T14:35:44.491Z"
   },
   {
    "duration": 9,
    "start_time": "2022-07-05T14:35:50.954Z"
   },
   {
    "duration": 12,
    "start_time": "2022-07-05T14:35:59.503Z"
   },
   {
    "duration": 10,
    "start_time": "2022-07-05T14:36:03.300Z"
   },
   {
    "duration": 11,
    "start_time": "2022-07-05T14:36:06.928Z"
   },
   {
    "duration": 53,
    "start_time": "2022-07-06T07:33:00.053Z"
   },
   {
    "duration": 543,
    "start_time": "2022-07-06T07:33:11.504Z"
   },
   {
    "duration": 22,
    "start_time": "2022-07-06T07:33:12.049Z"
   },
   {
    "duration": 18,
    "start_time": "2022-07-06T07:33:12.073Z"
   },
   {
    "duration": 10,
    "start_time": "2022-07-06T07:33:12.093Z"
   },
   {
    "duration": 41,
    "start_time": "2022-07-06T07:33:12.123Z"
   },
   {
    "duration": 4,
    "start_time": "2022-07-06T07:33:12.166Z"
   },
   {
    "duration": 19,
    "start_time": "2022-07-06T07:33:12.172Z"
   },
   {
    "duration": 4,
    "start_time": "2022-07-06T07:33:12.193Z"
   },
   {
    "duration": 23,
    "start_time": "2022-07-06T07:33:12.199Z"
   },
   {
    "duration": 6,
    "start_time": "2022-07-06T07:33:12.225Z"
   },
   {
    "duration": 43,
    "start_time": "2022-07-06T07:33:12.233Z"
   },
   {
    "duration": 10,
    "start_time": "2022-07-06T07:33:12.278Z"
   },
   {
    "duration": 11,
    "start_time": "2022-07-06T07:33:12.290Z"
   },
   {
    "duration": 31,
    "start_time": "2022-07-06T07:33:12.303Z"
   },
   {
    "duration": 17,
    "start_time": "2022-07-06T07:33:12.336Z"
   },
   {
    "duration": 12,
    "start_time": "2022-07-06T07:33:12.355Z"
   },
   {
    "duration": 5,
    "start_time": "2022-07-06T07:33:12.369Z"
   },
   {
    "duration": 20,
    "start_time": "2022-07-06T07:33:12.376Z"
   },
   {
    "duration": 25,
    "start_time": "2022-07-06T07:33:12.398Z"
   },
   {
    "duration": 4,
    "start_time": "2022-07-06T07:33:12.425Z"
   },
   {
    "duration": 16,
    "start_time": "2022-07-06T07:33:12.431Z"
   },
   {
    "duration": 16,
    "start_time": "2022-07-06T07:33:12.449Z"
   },
   {
    "duration": 11,
    "start_time": "2022-07-06T07:33:12.467Z"
   },
   {
    "duration": 10,
    "start_time": "2022-07-06T07:33:12.480Z"
   },
   {
    "duration": 35,
    "start_time": "2022-07-06T07:33:12.492Z"
   },
   {
    "duration": 9,
    "start_time": "2022-07-06T07:33:42.686Z"
   },
   {
    "duration": 7,
    "start_time": "2022-07-06T07:33:48.052Z"
   },
   {
    "duration": 65,
    "start_time": "2022-07-06T07:34:11.347Z"
   },
   {
    "duration": 10,
    "start_time": "2022-07-06T07:34:26.817Z"
   },
   {
    "duration": 8,
    "start_time": "2022-07-06T07:34:38.135Z"
   },
   {
    "duration": 6,
    "start_time": "2022-07-06T07:34:43.603Z"
   },
   {
    "duration": 18,
    "start_time": "2022-07-06T07:35:11.144Z"
   },
   {
    "duration": 13,
    "start_time": "2022-07-06T07:35:24.486Z"
   },
   {
    "duration": 10,
    "start_time": "2022-07-06T07:35:32.546Z"
   },
   {
    "duration": 8,
    "start_time": "2022-07-06T07:35:48.482Z"
   },
   {
    "duration": 8,
    "start_time": "2022-07-06T07:35:59.545Z"
   },
   {
    "duration": 4,
    "start_time": "2022-07-06T07:36:18.122Z"
   },
   {
    "duration": 11,
    "start_time": "2022-07-06T07:37:11.481Z"
   },
   {
    "duration": 4,
    "start_time": "2022-07-06T07:38:02.374Z"
   },
   {
    "duration": 10,
    "start_time": "2022-07-06T07:38:14.798Z"
   },
   {
    "duration": 7,
    "start_time": "2022-07-06T07:38:24.808Z"
   },
   {
    "duration": 6,
    "start_time": "2022-07-06T07:38:34.975Z"
   },
   {
    "duration": 7,
    "start_time": "2022-07-06T07:38:41.841Z"
   },
   {
    "duration": 67,
    "start_time": "2022-07-06T07:43:20.699Z"
   },
   {
    "duration": 7,
    "start_time": "2022-07-06T07:43:35.715Z"
   },
   {
    "duration": 12,
    "start_time": "2022-07-06T07:45:46.261Z"
   },
   {
    "duration": 402,
    "start_time": "2022-07-06T07:46:29.150Z"
   },
   {
    "duration": 12,
    "start_time": "2022-07-06T07:46:34.626Z"
   },
   {
    "duration": 14,
    "start_time": "2022-07-06T07:46:45.206Z"
   },
   {
    "duration": 11,
    "start_time": "2022-07-06T08:17:27.491Z"
   },
   {
    "duration": 490,
    "start_time": "2022-07-06T09:23:27.130Z"
   },
   {
    "duration": 33,
    "start_time": "2022-07-06T09:23:27.622Z"
   },
   {
    "duration": 20,
    "start_time": "2022-07-06T09:23:27.658Z"
   },
   {
    "duration": 11,
    "start_time": "2022-07-06T09:23:27.681Z"
   },
   {
    "duration": 60,
    "start_time": "2022-07-06T09:23:27.694Z"
   },
   {
    "duration": 4,
    "start_time": "2022-07-06T09:23:27.755Z"
   },
   {
    "duration": 16,
    "start_time": "2022-07-06T09:23:27.761Z"
   },
   {
    "duration": 5,
    "start_time": "2022-07-06T09:23:27.779Z"
   },
   {
    "duration": 19,
    "start_time": "2022-07-06T09:23:27.786Z"
   },
   {
    "duration": 6,
    "start_time": "2022-07-06T09:23:27.825Z"
   },
   {
    "duration": 59,
    "start_time": "2022-07-06T09:23:27.833Z"
   },
   {
    "duration": 30,
    "start_time": "2022-07-06T09:23:27.894Z"
   },
   {
    "duration": 5,
    "start_time": "2022-07-06T09:23:27.926Z"
   },
   {
    "duration": 33,
    "start_time": "2022-07-06T09:23:27.933Z"
   },
   {
    "duration": 18,
    "start_time": "2022-07-06T09:23:27.968Z"
   },
   {
    "duration": 37,
    "start_time": "2022-07-06T09:23:27.989Z"
   },
   {
    "duration": 7,
    "start_time": "2022-07-06T09:23:28.028Z"
   },
   {
    "duration": 23,
    "start_time": "2022-07-06T09:23:28.036Z"
   },
   {
    "duration": 8,
    "start_time": "2022-07-06T09:23:28.061Z"
   },
   {
    "duration": 6,
    "start_time": "2022-07-06T09:23:28.071Z"
   },
   {
    "duration": 16,
    "start_time": "2022-07-06T09:23:28.079Z"
   },
   {
    "duration": 9,
    "start_time": "2022-07-06T09:23:28.097Z"
   },
   {
    "duration": 13,
    "start_time": "2022-07-06T09:23:28.123Z"
   },
   {
    "duration": 6,
    "start_time": "2022-07-06T09:23:28.138Z"
   },
   {
    "duration": 12,
    "start_time": "2022-07-06T09:23:28.145Z"
   },
   {
    "duration": 9,
    "start_time": "2022-07-06T09:23:28.159Z"
   },
   {
    "duration": 52,
    "start_time": "2022-07-06T09:23:28.170Z"
   },
   {
    "duration": 456,
    "start_time": "2022-07-06T17:42:50.846Z"
   },
   {
    "duration": 24,
    "start_time": "2022-07-06T17:42:51.304Z"
   },
   {
    "duration": 16,
    "start_time": "2022-07-06T17:42:51.330Z"
   },
   {
    "duration": 13,
    "start_time": "2022-07-06T17:42:51.348Z"
   },
   {
    "duration": 55,
    "start_time": "2022-07-06T17:42:51.363Z"
   },
   {
    "duration": 3,
    "start_time": "2022-07-06T17:42:51.420Z"
   },
   {
    "duration": 18,
    "start_time": "2022-07-06T17:42:51.425Z"
   },
   {
    "duration": 7,
    "start_time": "2022-07-06T17:42:51.444Z"
   },
   {
    "duration": 10,
    "start_time": "2022-07-06T17:42:51.452Z"
   },
   {
    "duration": 6,
    "start_time": "2022-07-06T17:42:51.464Z"
   },
   {
    "duration": 55,
    "start_time": "2022-07-06T17:42:51.472Z"
   },
   {
    "duration": 9,
    "start_time": "2022-07-06T17:42:51.529Z"
   },
   {
    "duration": 8,
    "start_time": "2022-07-06T17:42:51.540Z"
   },
   {
    "duration": 21,
    "start_time": "2022-07-06T17:42:51.550Z"
   },
   {
    "duration": 33,
    "start_time": "2022-07-06T17:42:51.573Z"
   },
   {
    "duration": 11,
    "start_time": "2022-07-06T17:42:51.607Z"
   },
   {
    "duration": 28,
    "start_time": "2022-07-06T17:42:51.620Z"
   },
   {
    "duration": 20,
    "start_time": "2022-07-06T17:42:51.649Z"
   },
   {
    "duration": 26,
    "start_time": "2022-07-06T17:42:51.671Z"
   },
   {
    "duration": 11,
    "start_time": "2022-07-06T17:42:51.698Z"
   },
   {
    "duration": 24,
    "start_time": "2022-07-06T17:42:51.710Z"
   },
   {
    "duration": 27,
    "start_time": "2022-07-06T17:42:51.736Z"
   },
   {
    "duration": 18,
    "start_time": "2022-07-06T17:42:51.764Z"
   },
   {
    "duration": 17,
    "start_time": "2022-07-06T17:42:51.783Z"
   },
   {
    "duration": 12,
    "start_time": "2022-07-06T17:42:51.802Z"
   },
   {
    "duration": 12,
    "start_time": "2022-07-06T17:42:51.815Z"
   },
   {
    "duration": 22,
    "start_time": "2022-07-06T17:42:51.829Z"
   },
   {
    "duration": 403,
    "start_time": "2022-07-07T16:05:25.663Z"
   },
   {
    "duration": 21,
    "start_time": "2022-07-07T16:05:26.067Z"
   },
   {
    "duration": 13,
    "start_time": "2022-07-07T16:05:26.090Z"
   },
   {
    "duration": 26,
    "start_time": "2022-07-07T16:05:26.105Z"
   },
   {
    "duration": 32,
    "start_time": "2022-07-07T16:05:26.133Z"
   },
   {
    "duration": 15,
    "start_time": "2022-07-07T16:05:26.166Z"
   },
   {
    "duration": 11,
    "start_time": "2022-07-07T16:05:26.183Z"
   },
   {
    "duration": 4,
    "start_time": "2022-07-07T16:05:26.196Z"
   },
   {
    "duration": 23,
    "start_time": "2022-07-07T16:05:26.201Z"
   },
   {
    "duration": 4,
    "start_time": "2022-07-07T16:05:26.225Z"
   },
   {
    "duration": 36,
    "start_time": "2022-07-07T16:05:26.231Z"
   },
   {
    "duration": 11,
    "start_time": "2022-07-07T16:05:26.269Z"
   },
   {
    "duration": 4,
    "start_time": "2022-07-07T16:05:26.282Z"
   },
   {
    "duration": 50,
    "start_time": "2022-07-07T16:05:26.289Z"
   },
   {
    "duration": 15,
    "start_time": "2022-07-07T16:05:26.341Z"
   },
   {
    "duration": 10,
    "start_time": "2022-07-07T16:05:26.358Z"
   },
   {
    "duration": 9,
    "start_time": "2022-07-07T16:05:26.370Z"
   },
   {
    "duration": 11,
    "start_time": "2022-07-07T16:05:26.381Z"
   },
   {
    "duration": 5,
    "start_time": "2022-07-07T16:05:26.394Z"
   },
   {
    "duration": 26,
    "start_time": "2022-07-07T16:05:26.400Z"
   },
   {
    "duration": 18,
    "start_time": "2022-07-07T16:05:26.428Z"
   },
   {
    "duration": 9,
    "start_time": "2022-07-07T16:05:26.448Z"
   },
   {
    "duration": 11,
    "start_time": "2022-07-07T16:05:26.459Z"
   },
   {
    "duration": 5,
    "start_time": "2022-07-07T16:05:26.472Z"
   },
   {
    "duration": 11,
    "start_time": "2022-07-07T16:05:26.479Z"
   },
   {
    "duration": 8,
    "start_time": "2022-07-07T16:05:26.492Z"
   },
   {
    "duration": 31,
    "start_time": "2022-07-07T16:05:26.501Z"
   },
   {
    "duration": 31,
    "start_time": "2022-07-07T16:06:47.551Z"
   },
   {
    "duration": 57,
    "start_time": "2022-07-07T16:17:51.944Z"
   },
   {
    "duration": 43,
    "start_time": "2022-07-07T16:17:59.354Z"
   },
   {
    "duration": 537,
    "start_time": "2022-07-07T16:18:06.514Z"
   },
   {
    "duration": 23,
    "start_time": "2022-07-07T16:18:07.053Z"
   },
   {
    "duration": 16,
    "start_time": "2022-07-07T16:18:07.078Z"
   },
   {
    "duration": 10,
    "start_time": "2022-07-07T16:18:07.097Z"
   },
   {
    "duration": 55,
    "start_time": "2022-07-07T16:18:07.109Z"
   },
   {
    "duration": 3,
    "start_time": "2022-07-07T16:18:07.166Z"
   },
   {
    "duration": 12,
    "start_time": "2022-07-07T16:18:07.171Z"
   },
   {
    "duration": 10,
    "start_time": "2022-07-07T16:18:07.185Z"
   },
   {
    "duration": 8,
    "start_time": "2022-07-07T16:18:07.196Z"
   },
   {
    "duration": 11,
    "start_time": "2022-07-07T16:18:07.208Z"
   },
   {
    "duration": 43,
    "start_time": "2022-07-07T16:18:07.221Z"
   },
   {
    "duration": 10,
    "start_time": "2022-07-07T16:18:07.266Z"
   },
   {
    "duration": 5,
    "start_time": "2022-07-07T16:18:07.277Z"
   },
   {
    "duration": 19,
    "start_time": "2022-07-07T16:18:07.284Z"
   },
   {
    "duration": 16,
    "start_time": "2022-07-07T16:18:07.304Z"
   },
   {
    "duration": 33,
    "start_time": "2022-07-07T16:18:07.322Z"
   },
   {
    "duration": 7,
    "start_time": "2022-07-07T16:18:07.356Z"
   },
   {
    "duration": 15,
    "start_time": "2022-07-07T16:18:07.365Z"
   },
   {
    "duration": 11,
    "start_time": "2022-07-07T16:18:07.382Z"
   },
   {
    "duration": 6,
    "start_time": "2022-07-07T16:18:07.395Z"
   },
   {
    "duration": 16,
    "start_time": "2022-07-07T16:18:07.403Z"
   },
   {
    "duration": 26,
    "start_time": "2022-07-07T16:18:07.421Z"
   },
   {
    "duration": 13,
    "start_time": "2022-07-07T16:18:07.449Z"
   },
   {
    "duration": 6,
    "start_time": "2022-07-07T16:18:07.464Z"
   },
   {
    "duration": 27,
    "start_time": "2022-07-07T16:18:07.471Z"
   },
   {
    "duration": 14,
    "start_time": "2022-07-07T16:18:07.501Z"
   },
   {
    "duration": 40,
    "start_time": "2022-07-07T16:18:07.517Z"
   },
   {
    "duration": 30,
    "start_time": "2022-07-07T16:18:07.560Z"
   }
  ],
  "colab": {
   "name": "dpp_template_part2.ipynb",
   "provenance": []
  },
  "kernelspec": {
   "display_name": "Python 3 (ipykernel)",
   "language": "python",
   "name": "python3"
  },
  "language_info": {
   "codemirror_mode": {
    "name": "ipython",
    "version": 3
   },
   "file_extension": ".py",
   "mimetype": "text/x-python",
   "name": "python",
   "nbconvert_exporter": "python",
   "pygments_lexer": "ipython3",
   "version": "3.9.12"
  },
  "toc": {
   "base_numbering": 1,
   "nav_menu": {},
   "number_sections": true,
   "sideBar": true,
   "skip_h1_title": true,
   "title_cell": "Table of Contents",
   "title_sidebar": "Contents",
   "toc_cell": false,
   "toc_position": {},
   "toc_section_display": true,
   "toc_window_display": false
  }
 },
 "nbformat": 4,
 "nbformat_minor": 5
}
